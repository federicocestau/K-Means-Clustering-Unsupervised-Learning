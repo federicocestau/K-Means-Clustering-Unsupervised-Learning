{
 "cells": [
  {
   "cell_type": "code",
   "execution_count": 1,
   "metadata": {
    "executionInfo": {
     "elapsed": 433,
     "status": "ok",
     "timestamp": 1684653707458,
     "user": {
      "displayName": "Federico Cestau",
      "userId": "13640704496125988040"
     },
     "user_tz": 180
    },
    "id": "3RDpKQBED2Nx"
   },
   "outputs": [],
   "source": [
    "import pandas as pd # for data manipulation\n",
    "import numpy as np # for data manipulation\n",
    "import matplotlib.pyplot as plt"
   ]
  },
  {
   "cell_type": "code",
   "execution_count": 2,
   "metadata": {
    "colab": {
     "base_uri": "https://localhost:8080/",
     "height": 73
    },
    "executionInfo": {
     "elapsed": 59154,
     "status": "ok",
     "timestamp": 1684653816772,
     "user": {
      "displayName": "Federico Cestau",
      "userId": "13640704496125988040"
     },
     "user_tz": 180
    },
    "id": "TYnhmpAkL5yN",
    "outputId": "87421381-20bd-44fc-a77f-f43a2ef855a7"
   },
   "outputs": [
    {
     "data": {
      "text/html": [
       "\n",
       "     <input type=\"file\" id=\"files-27e10668-a16a-4b6c-90c0-b7e037c1c762\" name=\"files[]\" multiple disabled\n",
       "        style=\"border:none\" />\n",
       "     <output id=\"result-27e10668-a16a-4b6c-90c0-b7e037c1c762\">\n",
       "      Upload widget is only available when the cell has been executed in the\n",
       "      current browser session. Please rerun this cell to enable.\n",
       "      </output>\n",
       "      <script>// Copyright 2017 Google LLC\n",
       "//\n",
       "// Licensed under the Apache License, Version 2.0 (the \"License\");\n",
       "// you may not use this file except in compliance with the License.\n",
       "// You may obtain a copy of the License at\n",
       "//\n",
       "//      http://www.apache.org/licenses/LICENSE-2.0\n",
       "//\n",
       "// Unless required by applicable law or agreed to in writing, software\n",
       "// distributed under the License is distributed on an \"AS IS\" BASIS,\n",
       "// WITHOUT WARRANTIES OR CONDITIONS OF ANY KIND, either express or implied.\n",
       "// See the License for the specific language governing permissions and\n",
       "// limitations under the License.\n",
       "\n",
       "/**\n",
       " * @fileoverview Helpers for google.colab Python module.\n",
       " */\n",
       "(function(scope) {\n",
       "function span(text, styleAttributes = {}) {\n",
       "  const element = document.createElement('span');\n",
       "  element.textContent = text;\n",
       "  for (const key of Object.keys(styleAttributes)) {\n",
       "    element.style[key] = styleAttributes[key];\n",
       "  }\n",
       "  return element;\n",
       "}\n",
       "\n",
       "// Max number of bytes which will be uploaded at a time.\n",
       "const MAX_PAYLOAD_SIZE = 100 * 1024;\n",
       "\n",
       "function _uploadFiles(inputId, outputId) {\n",
       "  const steps = uploadFilesStep(inputId, outputId);\n",
       "  const outputElement = document.getElementById(outputId);\n",
       "  // Cache steps on the outputElement to make it available for the next call\n",
       "  // to uploadFilesContinue from Python.\n",
       "  outputElement.steps = steps;\n",
       "\n",
       "  return _uploadFilesContinue(outputId);\n",
       "}\n",
       "\n",
       "// This is roughly an async generator (not supported in the browser yet),\n",
       "// where there are multiple asynchronous steps and the Python side is going\n",
       "// to poll for completion of each step.\n",
       "// This uses a Promise to block the python side on completion of each step,\n",
       "// then passes the result of the previous step as the input to the next step.\n",
       "function _uploadFilesContinue(outputId) {\n",
       "  const outputElement = document.getElementById(outputId);\n",
       "  const steps = outputElement.steps;\n",
       "\n",
       "  const next = steps.next(outputElement.lastPromiseValue);\n",
       "  return Promise.resolve(next.value.promise).then((value) => {\n",
       "    // Cache the last promise value to make it available to the next\n",
       "    // step of the generator.\n",
       "    outputElement.lastPromiseValue = value;\n",
       "    return next.value.response;\n",
       "  });\n",
       "}\n",
       "\n",
       "/**\n",
       " * Generator function which is called between each async step of the upload\n",
       " * process.\n",
       " * @param {string} inputId Element ID of the input file picker element.\n",
       " * @param {string} outputId Element ID of the output display.\n",
       " * @return {!Iterable<!Object>} Iterable of next steps.\n",
       " */\n",
       "function* uploadFilesStep(inputId, outputId) {\n",
       "  const inputElement = document.getElementById(inputId);\n",
       "  inputElement.disabled = false;\n",
       "\n",
       "  const outputElement = document.getElementById(outputId);\n",
       "  outputElement.innerHTML = '';\n",
       "\n",
       "  const pickedPromise = new Promise((resolve) => {\n",
       "    inputElement.addEventListener('change', (e) => {\n",
       "      resolve(e.target.files);\n",
       "    });\n",
       "  });\n",
       "\n",
       "  const cancel = document.createElement('button');\n",
       "  inputElement.parentElement.appendChild(cancel);\n",
       "  cancel.textContent = 'Cancel upload';\n",
       "  const cancelPromise = new Promise((resolve) => {\n",
       "    cancel.onclick = () => {\n",
       "      resolve(null);\n",
       "    };\n",
       "  });\n",
       "\n",
       "  // Wait for the user to pick the files.\n",
       "  const files = yield {\n",
       "    promise: Promise.race([pickedPromise, cancelPromise]),\n",
       "    response: {\n",
       "      action: 'starting',\n",
       "    }\n",
       "  };\n",
       "\n",
       "  cancel.remove();\n",
       "\n",
       "  // Disable the input element since further picks are not allowed.\n",
       "  inputElement.disabled = true;\n",
       "\n",
       "  if (!files) {\n",
       "    return {\n",
       "      response: {\n",
       "        action: 'complete',\n",
       "      }\n",
       "    };\n",
       "  }\n",
       "\n",
       "  for (const file of files) {\n",
       "    const li = document.createElement('li');\n",
       "    li.append(span(file.name, {fontWeight: 'bold'}));\n",
       "    li.append(span(\n",
       "        `(${file.type || 'n/a'}) - ${file.size} bytes, ` +\n",
       "        `last modified: ${\n",
       "            file.lastModifiedDate ? file.lastModifiedDate.toLocaleDateString() :\n",
       "                                    'n/a'} - `));\n",
       "    const percent = span('0% done');\n",
       "    li.appendChild(percent);\n",
       "\n",
       "    outputElement.appendChild(li);\n",
       "\n",
       "    const fileDataPromise = new Promise((resolve) => {\n",
       "      const reader = new FileReader();\n",
       "      reader.onload = (e) => {\n",
       "        resolve(e.target.result);\n",
       "      };\n",
       "      reader.readAsArrayBuffer(file);\n",
       "    });\n",
       "    // Wait for the data to be ready.\n",
       "    let fileData = yield {\n",
       "      promise: fileDataPromise,\n",
       "      response: {\n",
       "        action: 'continue',\n",
       "      }\n",
       "    };\n",
       "\n",
       "    // Use a chunked sending to avoid message size limits. See b/62115660.\n",
       "    let position = 0;\n",
       "    do {\n",
       "      const length = Math.min(fileData.byteLength - position, MAX_PAYLOAD_SIZE);\n",
       "      const chunk = new Uint8Array(fileData, position, length);\n",
       "      position += length;\n",
       "\n",
       "      const base64 = btoa(String.fromCharCode.apply(null, chunk));\n",
       "      yield {\n",
       "        response: {\n",
       "          action: 'append',\n",
       "          file: file.name,\n",
       "          data: base64,\n",
       "        },\n",
       "      };\n",
       "\n",
       "      let percentDone = fileData.byteLength === 0 ?\n",
       "          100 :\n",
       "          Math.round((position / fileData.byteLength) * 100);\n",
       "      percent.textContent = `${percentDone}% done`;\n",
       "\n",
       "    } while (position < fileData.byteLength);\n",
       "  }\n",
       "\n",
       "  // All done.\n",
       "  yield {\n",
       "    response: {\n",
       "      action: 'complete',\n",
       "    }\n",
       "  };\n",
       "}\n",
       "\n",
       "scope.google = scope.google || {};\n",
       "scope.google.colab = scope.google.colab || {};\n",
       "scope.google.colab._files = {\n",
       "  _uploadFiles,\n",
       "  _uploadFilesContinue,\n",
       "};\n",
       "})(self);\n",
       "</script> "
      ],
      "text/plain": [
       "<IPython.core.display.HTML object>"
      ]
     },
     "metadata": {},
     "output_type": "display_data"
    },
    {
     "name": "stdout",
     "output_type": "stream",
     "text": [
      "Saving Real estate.csv to Real estate.csv\n"
     ]
    }
   ],
   "source": [
    "from google.colab import files\n",
    "data = files.upload()"
   ]
  },
  {
   "cell_type": "code",
   "execution_count": 3,
   "metadata": {
    "executionInfo": {
     "elapsed": 463,
     "status": "ok",
     "timestamp": 1684653902403,
     "user": {
      "displayName": "Federico Cestau",
      "userId": "13640704496125988040"
     },
     "user_tz": 180
    },
    "id": "EsSEEJmPL5-I"
   },
   "outputs": [],
   "source": [
    "df = pd.read_csv('Real estate.csv')"
   ]
  },
  {
   "cell_type": "code",
   "execution_count": 4,
   "metadata": {
    "executionInfo": {
     "elapsed": 299,
     "status": "ok",
     "timestamp": 1684653928046,
     "user": {
      "displayName": "Federico Cestau",
      "userId": "13640704496125988040"
     },
     "user_tz": 180
    },
    "id": "qDeuVOanL6CU"
   },
   "outputs": [],
   "source": [
    "# Defining Dependent and Independant variable\n",
    "X = np.array(df[['X3 distance to the nearest MRT station','X2 house age']])\n",
    "Y = df['Y house price of unit area'].values"
   ]
  },
  {
   "cell_type": "code",
   "execution_count": 6,
   "metadata": {
    "colab": {
     "base_uri": "https://localhost:8080/"
    },
    "executionInfo": {
     "elapsed": 6,
     "status": "ok",
     "timestamp": 1684653959312,
     "user": {
      "displayName": "Federico Cestau",
      "userId": "13640704496125988040"
     },
     "user_tz": 180
    },
    "id": "u0dCmlCXL6IE",
    "outputId": "70aa69ea-8391-4988-9d63-35de7d10deaf"
   },
   "outputs": [
    {
     "data": {
      "text/plain": [
       "(414, 2)"
      ]
     },
     "execution_count": 6,
     "metadata": {},
     "output_type": "execute_result"
    }
   ],
   "source": [
    "X.shape"
   ]
  },
  {
   "cell_type": "code",
   "execution_count": 8,
   "metadata": {
    "colab": {
     "base_uri": "https://localhost:8080/",
     "height": 646
    },
    "executionInfo": {
     "elapsed": 915,
     "status": "ok",
     "timestamp": 1684654041651,
     "user": {
      "displayName": "Federico Cestau",
      "userId": "13640704496125988040"
     },
     "user_tz": 180
    },
    "id": "cWY42_XKL6NQ",
    "outputId": "02e431c3-fc5c-48eb-aece-8c78b3af59fb"
   },
   "outputs": [
    {
     "name": "stderr",
     "output_type": "stream",
     "text": [
      "WARNING:matplotlib.legend:No artists with labels found to put in legend.  Note that artists whose label start with an underscore are ignored when legend() is called with no argument.\n"
     ]
    },
    {
     "data": {
      "image/png": "[encoded data removed]",
      "text/plain": [
       "<Figure size 1400x700 with 1 Axes>"
      ]
     },
     "metadata": {},
     "output_type": "display_data"
    }
   ],
   "source": [
    "# Plotting the Clusters using matplotlib\n",
    "plt.rcParams['figure.figsize'] = [14, 7]\n",
    "plt.rc('font', size=14)\n",
    "\n",
    "plt.scatter(df['X3 distance to the nearest MRT station'],df['X2 house age'])\n",
    "plt.xlabel(\"X3 distance to the nearest MRT station\")\n",
    "plt.ylabel(\"X2 house age\")\n",
    "plt.legend()\n",
    "plt.show()"
   ]
  },
  {
   "cell_type": "code",
   "execution_count": 9,
   "metadata": {
    "executionInfo": {
     "elapsed": 3145,
     "status": "ok",
     "timestamp": 1684654215806,
     "user": {
      "displayName": "Federico Cestau",
      "userId": "13640704496125988040"
     },
     "user_tz": 180
    },
    "id": "MMtE01ZxNMGu"
   },
   "outputs": [],
   "source": [
    "from sklearn.model_selection import train_test_split\n",
    "from sklearn.cluster import KMeans\n",
    "from sklearn.metrics import silhouette_score\n",
    "import statistics\n",
    "from scipy import stats"
   ]
  },
  {
   "cell_type": "code",
   "execution_count": 10,
   "metadata": {
    "executionInfo": {
     "elapsed": 4,
     "status": "ok",
     "timestamp": 1684654230959,
     "user": {
      "displayName": "Federico Cestau",
      "userId": "13640704496125988040"
     },
     "user_tz": 180
    },
    "id": "5UmoDMO2NMPf"
   },
   "outputs": [],
   "source": [
    "X_train, X_test, Y_train, Y_test = train_test_split(\n",
    " X, Y, test_size=0.30, random_state=42)"
   ]
  },
  {
   "cell_type": "code",
   "execution_count": 11,
   "metadata": {
    "executionInfo": {
     "elapsed": 1329,
     "status": "ok",
     "timestamp": 1684654275191,
     "user": {
      "displayName": "Federico Cestau",
      "userId": "13640704496125988040"
     },
     "user_tz": 180
    },
    "id": "TstdjAFKNMWL"
   },
   "outputs": [],
   "source": [
    "silhouette_coefficients = []\n",
    "\n",
    "kmeans_kwargs= {\n",
    "    \"init\":\"random\",\n",
    "    \"n_init\":10,\n",
    "    \"max_iter\":300,\n",
    "    \"random_state\":42\n",
    "}\n",
    "\n",
    "for k in range(2, 11):\n",
    "    kmeans = KMeans(n_clusters=k, **kmeans_kwargs)\n",
    "    kmeans.fit(X_train)\n",
    "    score = silhouette_score(X_train, kmeans.labels_)\n",
    "    silhouette_coefficients.append(score)"
   ]
  },
  {
   "cell_type": "code",
   "execution_count": 12,
   "metadata": {
    "colab": {
     "base_uri": "https://localhost:8080/",
     "height": 656
    },
    "executionInfo": {
     "elapsed": 1253,
     "status": "ok",
     "timestamp": 1684654324691,
     "user": {
      "displayName": "Federico Cestau",
      "userId": "13640704496125988040"
     },
     "user_tz": 180
    },
    "id": "A8_Xntd6NMcB",
    "outputId": "8473da67-2177-4841-b2a6-a7714ccf3b9f"
   },
   "outputs": [
    {
     "data": {
      "image/png": "[encoded data removed]",
      "text/plain": [
       "<Figure size 1400x700 with 1 Axes>"
      ]
     },
     "metadata": {},
     "output_type": "display_data"
    }
   ],
   "source": [
    "# Plotting graph to choose the best number of clusters\n",
    "# with the most Silhouette Coefficient score\n",
    "\n",
    "import matplotlib.pyplot as plt\n",
    "\n",
    "plt.style.use(\"fivethirtyeight\")\n",
    "plt.plot(range(2, 11), silhouette_coefficients)\n",
    "plt.xticks(range(2, 11))\n",
    "plt.xlabel(\"Number of Clusters\")\n",
    "plt.ylabel(\"Silhouette Coefficient\")\n",
    "plt.show()"
   ]
  },
  {
   "cell_type": "markdown",
   "metadata": {
    "id": "A9J3WXqTOiHJ"
   },
   "source": [
    "The value of the silhouette coefﬁcient is between [-1, 1]. A score of 1 denotes the best, meaning that the data point i is very compact within the cluster to which it belongs and far away from the other clusters. "
   ]
  },
  {
   "cell_type": "code",
   "execution_count": 13,
   "metadata": {
    "colab": {
     "base_uri": "https://localhost:8080/",
     "height": 74
    },
    "executionInfo": {
     "elapsed": 316,
     "status": "ok",
     "timestamp": 1684654487837,
     "user": {
      "displayName": "Federico Cestau",
      "userId": "13640704496125988040"
     },
     "user_tz": 180
    },
    "id": "x7aIfP_0NMgm",
    "outputId": "b09e3fd8-3129-40c1-8dc5-428262fa1b0d"
   },
   "outputs": [
    {
     "data": {
      "text/html": [
       "<style>#sk-container-id-1 {color: black;background-color: white;}#sk-container-id-1 pre{padding: 0;}#sk-container-id-1 div.sk-toggleable {background-color: white;}#sk-container-id-1 label.sk-toggleable__label {cursor: pointer;display: block;width: 100%;margin-bottom: 0;padding: 0.3em;box-sizing: border-box;text-align: center;}#sk-container-id-1 label.sk-toggleable__label-arrow:before {content: \"▸\";float: left;margin-right: 0.25em;color: #696969;}#sk-container-id-1 label.sk-toggleable__label-arrow:hover:before {color: black;}#sk-container-id-1 div.sk-estimator:hover label.sk-toggleable__label-arrow:before {color: black;}#sk-container-id-1 div.sk-toggleable__content {max-height: 0;max-width: 0;overflow: hidden;text-align: left;background-color: #f0f8ff;}#sk-container-id-1 div.sk-toggleable__content pre {margin: 0.2em;color: black;border-radius: 0.25em;background-color: #f0f8ff;}#sk-container-id-1 input.sk-toggleable__control:checked~div.sk-toggleable__content {max-height: 200px;max-width: 100%;overflow: auto;}#sk-container-id-1 input.sk-toggleable__control:checked~label.sk-toggleable__label-arrow:before {content: \"▾\";}#sk-container-id-1 div.sk-estimator input.sk-toggleable__control:checked~label.sk-toggleable__label {background-color: #d4ebff;}#sk-container-id-1 div.sk-label input.sk-toggleable__control:checked~label.sk-toggleable__label {background-color: #d4ebff;}#sk-container-id-1 input.sk-hidden--visually {border: 0;clip: rect(1px 1px 1px 1px);clip: rect(1px, 1px, 1px, 1px);height: 1px;margin: -1px;overflow: hidden;padding: 0;position: absolute;width: 1px;}#sk-container-id-1 div.sk-estimator {font-family: monospace;background-color: #f0f8ff;border: 1px dotted black;border-radius: 0.25em;box-sizing: border-box;margin-bottom: 0.5em;}#sk-container-id-1 div.sk-estimator:hover {background-color: #d4ebff;}#sk-container-id-1 div.sk-parallel-item::after {content: \"\";width: 100%;border-bottom: 1px solid gray;flex-grow: 1;}#sk-container-id-1 div.sk-label:hover label.sk-toggleable__label {background-color: #d4ebff;}#sk-container-id-1 div.sk-serial::before {content: \"\";position: absolute;border-left: 1px solid gray;box-sizing: border-box;top: 0;bottom: 0;left: 50%;z-index: 0;}#sk-container-id-1 div.sk-serial {display: flex;flex-direction: column;align-items: center;background-color: white;padding-right: 0.2em;padding-left: 0.2em;position: relative;}#sk-container-id-1 div.sk-item {position: relative;z-index: 1;}#sk-container-id-1 div.sk-parallel {display: flex;align-items: stretch;justify-content: center;background-color: white;position: relative;}#sk-container-id-1 div.sk-item::before, #sk-container-id-1 div.sk-parallel-item::before {content: \"\";position: absolute;border-left: 1px solid gray;box-sizing: border-box;top: 0;bottom: 0;left: 50%;z-index: -1;}#sk-container-id-1 div.sk-parallel-item {display: flex;flex-direction: column;z-index: 1;position: relative;background-color: white;}#sk-container-id-1 div.sk-parallel-item:first-child::after {align-self: flex-end;width: 50%;}#sk-container-id-1 div.sk-parallel-item:last-child::after {align-self: flex-start;width: 50%;}#sk-container-id-1 div.sk-parallel-item:only-child::after {width: 0;}#sk-container-id-1 div.sk-dashed-wrapped {border: 1px dashed gray;margin: 0 0.4em 0.5em 0.4em;box-sizing: border-box;padding-bottom: 0.4em;background-color: white;}#sk-container-id-1 div.sk-label label {font-family: monospace;font-weight: bold;display: inline-block;line-height: 1.2em;}#sk-container-id-1 div.sk-label-container {text-align: center;}#sk-container-id-1 div.sk-container {/* jupyter's `normalize.less` sets `[hidden] { display: none; }` but bootstrap.min.css set `[hidden] { display: none !important; }` so we also need the `!important` here to be able to override the default hidden behavior on the sphinx rendered scikit-learn.org. See: https://github.com/scikit-learn/scikit-learn/issues/21755 */display: inline-block !important;position: relative;}#sk-container-id-1 div.sk-text-repr-fallback {display: none;}</style><div id=\"sk-container-id-1\" class=\"sk-top-container\"><div class=\"sk-text-repr-fallback\"><pre>KMeans(init=&#x27;random&#x27;, n_clusters=3, n_init=10, random_state=42)</pre><b>In a Jupyter environment, please rerun this cell to show the HTML representation or trust the notebook. <br />On GitHub, the HTML representation is unable to render, please try loading this page with nbviewer.org.</b></div><div class=\"sk-container\" hidden><div class=\"sk-item\"><div class=\"sk-estimator sk-toggleable\"><input class=\"sk-toggleable__control sk-hidden--visually\" id=\"sk-estimator-id-1\" type=\"checkbox\" checked><label for=\"sk-estimator-id-1\" class=\"sk-toggleable__label sk-toggleable__label-arrow\">KMeans</label><div class=\"sk-toggleable__content\"><pre>KMeans(init=&#x27;random&#x27;, n_clusters=3, n_init=10, random_state=42)</pre></div></div></div></div></div>"
      ],
      "text/plain": [
       "KMeans(init='random', n_clusters=3, n_init=10, random_state=42)"
      ]
     },
     "execution_count": 13,
     "metadata": {},
     "output_type": "execute_result"
    }
   ],
   "source": [
    "# Instantiate the model: KMeans from sklearn\n",
    "kmeans = KMeans(\n",
    "    init=\"random\",\n",
    "    n_clusters=3,\n",
    "    n_init=10,\n",
    "    max_iter=300,\n",
    "    random_state=42\n",
    ")\n",
    "\n",
    "# Fit to the training data\n",
    "kmeans.fit(X_train)"
   ]
  },
  {
   "cell_type": "code",
   "execution_count": 14,
   "metadata": {
    "executionInfo": {
     "elapsed": 378,
     "status": "ok",
     "timestamp": 1684654520226,
     "user": {
      "displayName": "Federico Cestau",
      "userId": "13640704496125988040"
     },
     "user_tz": 180
    },
    "id": "E7FV7bvYOkAK"
   },
   "outputs": [],
   "source": [
    "train_df = pd.DataFrame(X_train,columns=['X3 distance to the nearest MRT station','X2 house age'])"
   ]
  },
  {
   "cell_type": "code",
   "execution_count": 15,
   "metadata": {
    "colab": {
     "base_uri": "https://localhost:8080/",
     "height": 206
    },
    "executionInfo": {
     "elapsed": 289,
     "status": "ok",
     "timestamp": 1684654529809,
     "user": {
      "displayName": "Federico Cestau",
      "userId": "13640704496125988040"
     },
     "user_tz": 180
    },
    "id": "Oz4HGvE9OkDv",
    "outputId": "08a22969-4684-46a8-a28b-a8f248d3490c"
   },
   "outputs": [
    {
     "data": {
      "text/html": [
       "\n",
       "  <div id=\"df-b1a6ca48-7b7e-4491-8591-3296c0730708\">\n",
       "    <div class=\"colab-df-container\">\n",
       "      <div>\n",
       "<style scoped>\n",
       "    .dataframe tbody tr th:only-of-type {\n",
       "        vertical-align: middle;\n",
       "    }\n",
       "\n",
       "    .dataframe tbody tr th {\n",
       "        vertical-align: top;\n",
       "    }\n",
       "\n",
       "    .dataframe thead th {\n",
       "        text-align: right;\n",
       "    }\n",
       "</style>\n",
       "<table border=\"1\" class=\"dataframe\">\n",
       "  <thead>\n",
       "    <tr style=\"text-align: right;\">\n",
       "      <th></th>\n",
       "      <th>X3 distance to the nearest MRT station</th>\n",
       "      <th>X2 house age</th>\n",
       "    </tr>\n",
       "  </thead>\n",
       "  <tbody>\n",
       "    <tr>\n",
       "      <th>0</th>\n",
       "      <td>287.60250</td>\n",
       "      <td>20.3</td>\n",
       "    </tr>\n",
       "    <tr>\n",
       "      <th>1</th>\n",
       "      <td>3771.89500</td>\n",
       "      <td>15.2</td>\n",
       "    </tr>\n",
       "    <tr>\n",
       "      <th>2</th>\n",
       "      <td>23.38284</td>\n",
       "      <td>1.5</td>\n",
       "    </tr>\n",
       "    <tr>\n",
       "      <th>3</th>\n",
       "      <td>4573.77900</td>\n",
       "      <td>13.9</td>\n",
       "    </tr>\n",
       "    <tr>\n",
       "      <th>4</th>\n",
       "      <td>1828.31900</td>\n",
       "      <td>15.0</td>\n",
       "    </tr>\n",
       "  </tbody>\n",
       "</table>\n",
       "</div>\n",
       "      <button class=\"colab-df-convert\" onclick=\"convertToInteractive('df-b1a6ca48-7b7e-4491-8591-3296c0730708')\"\n",
       "              title=\"Convert this dataframe to an interactive table.\"\n",
       "              style=\"display:none;\">\n",
       "        \n",
       "  <svg xmlns=\"http://www.w3.org/2000/svg\" height=\"24px\"viewBox=\"0 0 24 24\"\n",
       "       width=\"24px\">\n",
       "    <path d=\"M0 0h24v24H0V0z\" fill=\"none\"/>\n",
       "    <path d=\"M18.56 5.44l.94 2.06.94-2.06 2.06-.94-2.06-.94-.94-2.06-.94 2.06-2.06.94zm-11 1L8.5 8.5l.94-2.06 2.06-.94-2.06-.94L8.5 2.5l-.94 2.06-2.06.94zm10 10l.94 2.06.94-2.06 2.06-.94-2.06-.94-.94-2.06-.94 2.06-2.06.94z\"/><path d=\"M17.41 7.96l-1.37-1.37c-.4-.4-.92-.59-1.43-.59-.52 0-1.04.2-1.43.59L10.3 9.45l-7.72 7.72c-.78.78-.78 2.05 0 2.83L4 21.41c.39.39.9.59 1.41.59.51 0 1.02-.2 1.41-.59l7.78-7.78 2.81-2.81c.8-.78.8-2.07 0-2.86zM5.41 20L4 18.59l7.72-7.72 1.47 1.35L5.41 20z\"/>\n",
       "  </svg>\n",
       "      </button>\n",
       "      \n",
       "  <style>\n",
       "    .colab-df-container {\n",
       "      display:flex;\n",
       "      flex-wrap:wrap;\n",
       "      gap: 12px;\n",
       "    }\n",
       "\n",
       "    .colab-df-convert {\n",
       "      background-color: #E8F0FE;\n",
       "      border: none;\n",
       "      border-radius: 50%;\n",
       "      cursor: pointer;\n",
       "      display: none;\n",
       "      fill: #1967D2;\n",
       "      height: 32px;\n",
       "      padding: 0 0 0 0;\n",
       "      width: 32px;\n",
       "    }\n",
       "\n",
       "    .colab-df-convert:hover {\n",
       "      background-color: #E2EBFA;\n",
       "      box-shadow: 0px 1px 2px rgba(60, 64, 67, 0.3), 0px 1px 3px 1px rgba(60, 64, 67, 0.15);\n",
       "      fill: #174EA6;\n",
       "    }\n",
       "\n",
       "    [theme=dark] .colab-df-convert {\n",
       "      background-color: #3B4455;\n",
       "      fill: #D2E3FC;\n",
       "    }\n",
       "\n",
       "    [theme=dark] .colab-df-convert:hover {\n",
       "      background-color: #434B5C;\n",
       "      box-shadow: 0px 1px 3px 1px rgba(0, 0, 0, 0.15);\n",
       "      filter: drop-shadow(0px 1px 2px rgba(0, 0, 0, 0.3));\n",
       "      fill: #FFFFFF;\n",
       "    }\n",
       "  </style>\n",
       "\n",
       "      <script>\n",
       "        const buttonEl =\n",
       "          document.querySelector('#df-b1a6ca48-7b7e-4491-8591-3296c0730708 button.colab-df-convert');\n",
       "        buttonEl.style.display =\n",
       "          google.colab.kernel.accessAllowed ? 'block' : 'none';\n",
       "\n",
       "        async function convertToInteractive(key) {\n",
       "          const element = document.querySelector('#df-b1a6ca48-7b7e-4491-8591-3296c0730708');\n",
       "          const dataTable =\n",
       "            await google.colab.kernel.invokeFunction('convertToInteractive',\n",
       "                                                     [key], {});\n",
       "          if (!dataTable) return;\n",
       "\n",
       "          const docLinkHtml = 'Like what you see? Visit the ' +\n",
       "            '<a target=\"_blank\" href=https://colab.research.google.com/notebooks/data_table.ipynb>data table notebook</a>'\n",
       "            + ' to learn more about interactive tables.';\n",
       "          element.innerHTML = '';\n",
       "          dataTable['output_type'] = 'display_data';\n",
       "          await google.colab.output.renderOutput(dataTable, element);\n",
       "          const docLink = document.createElement('div');\n",
       "          docLink.innerHTML = docLinkHtml;\n",
       "          element.appendChild(docLink);\n",
       "        }\n",
       "      </script>\n",
       "    </div>\n",
       "  </div>\n",
       "  "
      ],
      "text/plain": [
       "   X3 distance to the nearest MRT station  X2 house age\n",
       "0                               287.60250          20.3\n",
       "1                              3771.89500          15.2\n",
       "2                                23.38284           1.5\n",
       "3                              4573.77900          13.9\n",
       "4                              1828.31900          15.0"
      ]
     },
     "execution_count": 15,
     "metadata": {},
     "output_type": "execute_result"
    }
   ],
   "source": [
    "train_df.head(5)"
   ]
  },
  {
   "cell_type": "code",
   "execution_count": 16,
   "metadata": {
    "executionInfo": {
     "elapsed": 268,
     "status": "ok",
     "timestamp": 1684654614674,
     "user": {
      "displayName": "Federico Cestau",
      "userId": "13640704496125988040"
     },
     "user_tz": 180
    },
    "id": "i25rj33HOkGg"
   },
   "outputs": [],
   "source": [
    "# Generate out clusters\n",
    "train_cluster = kmeans.predict(X_train)"
   ]
  },
  {
   "cell_type": "code",
   "execution_count": 17,
   "metadata": {
    "executionInfo": {
     "elapsed": 315,
     "status": "ok",
     "timestamp": 1684654755447,
     "user": {
      "displayName": "Federico Cestau",
      "userId": "13640704496125988040"
     },
     "user_tz": 180
    },
    "id": "SpTnOYe0OkI_"
   },
   "outputs": [],
   "source": [
    "# Add the target and predicted clusters to our training DataFrame\n",
    "train_df.insert(2,'Y house price of unit area',Y_train) \n",
    "train_df.insert(3,'cluster',train_cluster)"
   ]
  },
  {
   "cell_type": "code",
   "execution_count": 18,
   "metadata": {
    "colab": {
     "base_uri": "https://localhost:8080/",
     "height": 423
    },
    "executionInfo": {
     "elapsed": 9,
     "status": "ok",
     "timestamp": 1684654762254,
     "user": {
      "displayName": "Federico Cestau",
      "userId": "13640704496125988040"
     },
     "user_tz": 180
    },
    "id": "F9t3bXPtOkLk",
    "outputId": "6d23e575-8686-4b7e-f90f-953c9229f53a"
   },
   "outputs": [
    {
     "data": {
      "text/html": [
       "\n",
       "  <div id=\"df-1adb6f2b-d320-445f-b8cd-5114d593ee85\">\n",
       "    <div class=\"colab-df-container\">\n",
       "      <div>\n",
       "<style scoped>\n",
       "    .dataframe tbody tr th:only-of-type {\n",
       "        vertical-align: middle;\n",
       "    }\n",
       "\n",
       "    .dataframe tbody tr th {\n",
       "        vertical-align: top;\n",
       "    }\n",
       "\n",
       "    .dataframe thead th {\n",
       "        text-align: right;\n",
       "    }\n",
       "</style>\n",
       "<table border=\"1\" class=\"dataframe\">\n",
       "  <thead>\n",
       "    <tr style=\"text-align: right;\">\n",
       "      <th></th>\n",
       "      <th>X3 distance to the nearest MRT station</th>\n",
       "      <th>X2 house age</th>\n",
       "      <th>Y house price of unit area</th>\n",
       "      <th>cluster</th>\n",
       "    </tr>\n",
       "  </thead>\n",
       "  <tbody>\n",
       "    <tr>\n",
       "      <th>0</th>\n",
       "      <td>287.60250</td>\n",
       "      <td>20.3</td>\n",
       "      <td>46.7</td>\n",
       "      <td>0</td>\n",
       "    </tr>\n",
       "    <tr>\n",
       "      <th>1</th>\n",
       "      <td>3771.89500</td>\n",
       "      <td>15.2</td>\n",
       "      <td>29.3</td>\n",
       "      <td>2</td>\n",
       "    </tr>\n",
       "    <tr>\n",
       "      <th>2</th>\n",
       "      <td>23.38284</td>\n",
       "      <td>1.5</td>\n",
       "      <td>47.7</td>\n",
       "      <td>0</td>\n",
       "    </tr>\n",
       "    <tr>\n",
       "      <th>3</th>\n",
       "      <td>4573.77900</td>\n",
       "      <td>13.9</td>\n",
       "      <td>19.2</td>\n",
       "      <td>2</td>\n",
       "    </tr>\n",
       "    <tr>\n",
       "      <th>4</th>\n",
       "      <td>1828.31900</td>\n",
       "      <td>15.0</td>\n",
       "      <td>20.9</td>\n",
       "      <td>1</td>\n",
       "    </tr>\n",
       "    <tr>\n",
       "      <th>...</th>\n",
       "      <td>...</td>\n",
       "      <td>...</td>\n",
       "      <td>...</td>\n",
       "      <td>...</td>\n",
       "    </tr>\n",
       "    <tr>\n",
       "      <th>284</th>\n",
       "      <td>640.73910</td>\n",
       "      <td>35.5</td>\n",
       "      <td>40.8</td>\n",
       "      <td>0</td>\n",
       "    </tr>\n",
       "    <tr>\n",
       "      <th>285</th>\n",
       "      <td>189.51810</td>\n",
       "      <td>17.2</td>\n",
       "      <td>47.1</td>\n",
       "      <td>0</td>\n",
       "    </tr>\n",
       "    <tr>\n",
       "      <th>286</th>\n",
       "      <td>252.58220</td>\n",
       "      <td>10.8</td>\n",
       "      <td>117.5</td>\n",
       "      <td>0</td>\n",
       "    </tr>\n",
       "    <tr>\n",
       "      <th>287</th>\n",
       "      <td>259.66070</td>\n",
       "      <td>4.6</td>\n",
       "      <td>53.7</td>\n",
       "      <td>0</td>\n",
       "    </tr>\n",
       "    <tr>\n",
       "      <th>288</th>\n",
       "      <td>193.58450</td>\n",
       "      <td>1.1</td>\n",
       "      <td>54.4</td>\n",
       "      <td>0</td>\n",
       "    </tr>\n",
       "  </tbody>\n",
       "</table>\n",
       "<p>289 rows × 4 columns</p>\n",
       "</div>\n",
       "      <button class=\"colab-df-convert\" onclick=\"convertToInteractive('df-1adb6f2b-d320-445f-b8cd-5114d593ee85')\"\n",
       "              title=\"Convert this dataframe to an interactive table.\"\n",
       "              style=\"display:none;\">\n",
       "        \n",
       "  <svg xmlns=\"http://www.w3.org/2000/svg\" height=\"24px\"viewBox=\"0 0 24 24\"\n",
       "       width=\"24px\">\n",
       "    <path d=\"M0 0h24v24H0V0z\" fill=\"none\"/>\n",
       "    <path d=\"M18.56 5.44l.94 2.06.94-2.06 2.06-.94-2.06-.94-.94-2.06-.94 2.06-2.06.94zm-11 1L8.5 8.5l.94-2.06 2.06-.94-2.06-.94L8.5 2.5l-.94 2.06-2.06.94zm10 10l.94 2.06.94-2.06 2.06-.94-2.06-.94-.94-2.06-.94 2.06-2.06.94z\"/><path d=\"M17.41 7.96l-1.37-1.37c-.4-.4-.92-.59-1.43-.59-.52 0-1.04.2-1.43.59L10.3 9.45l-7.72 7.72c-.78.78-.78 2.05 0 2.83L4 21.41c.39.39.9.59 1.41.59.51 0 1.02-.2 1.41-.59l7.78-7.78 2.81-2.81c.8-.78.8-2.07 0-2.86zM5.41 20L4 18.59l7.72-7.72 1.47 1.35L5.41 20z\"/>\n",
       "  </svg>\n",
       "      </button>\n",
       "      \n",
       "  <style>\n",
       "    .colab-df-container {\n",
       "      display:flex;\n",
       "      flex-wrap:wrap;\n",
       "      gap: 12px;\n",
       "    }\n",
       "\n",
       "    .colab-df-convert {\n",
       "      background-color: #E8F0FE;\n",
       "      border: none;\n",
       "      border-radius: 50%;\n",
       "      cursor: pointer;\n",
       "      display: none;\n",
       "      fill: #1967D2;\n",
       "      height: 32px;\n",
       "      padding: 0 0 0 0;\n",
       "      width: 32px;\n",
       "    }\n",
       "\n",
       "    .colab-df-convert:hover {\n",
       "      background-color: #E2EBFA;\n",
       "      box-shadow: 0px 1px 2px rgba(60, 64, 67, 0.3), 0px 1px 3px 1px rgba(60, 64, 67, 0.15);\n",
       "      fill: #174EA6;\n",
       "    }\n",
       "\n",
       "    [theme=dark] .colab-df-convert {\n",
       "      background-color: #3B4455;\n",
       "      fill: #D2E3FC;\n",
       "    }\n",
       "\n",
       "    [theme=dark] .colab-df-convert:hover {\n",
       "      background-color: #434B5C;\n",
       "      box-shadow: 0px 1px 3px 1px rgba(0, 0, 0, 0.15);\n",
       "      filter: drop-shadow(0px 1px 2px rgba(0, 0, 0, 0.3));\n",
       "      fill: #FFFFFF;\n",
       "    }\n",
       "  </style>\n",
       "\n",
       "      <script>\n",
       "        const buttonEl =\n",
       "          document.querySelector('#df-1adb6f2b-d320-445f-b8cd-5114d593ee85 button.colab-df-convert');\n",
       "        buttonEl.style.display =\n",
       "          google.colab.kernel.accessAllowed ? 'block' : 'none';\n",
       "\n",
       "        async function convertToInteractive(key) {\n",
       "          const element = document.querySelector('#df-1adb6f2b-d320-445f-b8cd-5114d593ee85');\n",
       "          const dataTable =\n",
       "            await google.colab.kernel.invokeFunction('convertToInteractive',\n",
       "                                                     [key], {});\n",
       "          if (!dataTable) return;\n",
       "\n",
       "          const docLinkHtml = 'Like what you see? Visit the ' +\n",
       "            '<a target=\"_blank\" href=https://colab.research.google.com/notebooks/data_table.ipynb>data table notebook</a>'\n",
       "            + ' to learn more about interactive tables.';\n",
       "          element.innerHTML = '';\n",
       "          dataTable['output_type'] = 'display_data';\n",
       "          await google.colab.output.renderOutput(dataTable, element);\n",
       "          const docLink = document.createElement('div');\n",
       "          docLink.innerHTML = docLinkHtml;\n",
       "          element.appendChild(docLink);\n",
       "        }\n",
       "      </script>\n",
       "    </div>\n",
       "  </div>\n",
       "  "
      ],
      "text/plain": [
       "     X3 distance to the nearest MRT station  X2 house age  \\\n",
       "0                                 287.60250          20.3   \n",
       "1                                3771.89500          15.2   \n",
       "2                                  23.38284           1.5   \n",
       "3                                4573.77900          13.9   \n",
       "4                                1828.31900          15.0   \n",
       "..                                      ...           ...   \n",
       "284                               640.73910          35.5   \n",
       "285                               189.51810          17.2   \n",
       "286                               252.58220          10.8   \n",
       "287                               259.66070           4.6   \n",
       "288                               193.58450           1.1   \n",
       "\n",
       "     Y house price of unit area  cluster  \n",
       "0                          46.7        0  \n",
       "1                          29.3        2  \n",
       "2                          47.7        0  \n",
       "3                          19.2        2  \n",
       "4                          20.9        1  \n",
       "..                          ...      ...  \n",
       "284                        40.8        0  \n",
       "285                        47.1        0  \n",
       "286                       117.5        0  \n",
       "287                        53.7        0  \n",
       "288                        54.4        0  \n",
       "\n",
       "[289 rows x 4 columns]"
      ]
     },
     "execution_count": 18,
     "metadata": {},
     "output_type": "execute_result"
    }
   ],
   "source": [
    "train_df"
   ]
  },
  {
   "cell_type": "code",
   "execution_count": 19,
   "metadata": {
    "executionInfo": {
     "elapsed": 268,
     "status": "ok",
     "timestamp": 1684654833883,
     "user": {
      "displayName": "Federico Cestau",
      "userId": "13640704496125988040"
     },
     "user_tz": 180
    },
    "id": "3tHmrAPtNMkR"
   },
   "outputs": [],
   "source": [
    "n_clusters=3\n",
    "train_clusters_df = []\n",
    "for i in range(n_clusters):\n",
    "    train_clusters_df.append(train_df[train_df['cluster']==i])"
   ]
  },
  {
   "cell_type": "code",
   "execution_count": 20,
   "metadata": {
    "colab": {
     "base_uri": "https://localhost:8080/"
    },
    "executionInfo": {
     "elapsed": 6,
     "status": "ok",
     "timestamp": 1684654840048,
     "user": {
      "displayName": "Federico Cestau",
      "userId": "13640704496125988040"
     },
     "user_tz": 180
    },
    "id": "XIkNfoA1QLyG",
    "outputId": "5e95ba95-d7ec-4391-ceeb-c3e58ab15cab"
   },
   "outputs": [
    {
     "data": {
      "text/plain": [
       "[     X3 distance to the nearest MRT station  X2 house age  \\\n",
       " 0                                 287.60250          20.3   \n",
       " 2                                  23.38284           1.5   \n",
       " 6                                 157.60520          34.0   \n",
       " 7                                 451.24380           2.1   \n",
       " 8                                 815.93140          15.7   \n",
       " ..                                      ...           ...   \n",
       " 284                               640.73910          35.5   \n",
       " 285                               189.51810          17.2   \n",
       " 286                               252.58220          10.8   \n",
       " 287                               259.66070           4.6   \n",
       " 288                               193.58450           1.1   \n",
       " \n",
       "      Y house price of unit area  cluster  \n",
       " 0                          46.7        0  \n",
       " 2                          47.7        0  \n",
       " 6                          39.1        0  \n",
       " 7                          45.5        0  \n",
       " 8                          38.1        0  \n",
       " ..                          ...      ...  \n",
       " 284                        40.8        0  \n",
       " 285                        47.1        0  \n",
       " 286                       117.5        0  \n",
       " 287                        53.7        0  \n",
       " 288                        54.4        0  \n",
       " \n",
       " [198 rows x 4 columns],\n",
       "      X3 distance to the nearest MRT station  X2 house age  \\\n",
       " 4                                  1828.319          15.0   \n",
       " 5                                  1626.083          20.0   \n",
       " 9                                  2147.376           4.0   \n",
       " 14                                 2707.392          25.3   \n",
       " 24                                 2103.555          16.2   \n",
       " ..                                      ...           ...   \n",
       " 255                                1962.628           8.4   \n",
       " 274                                2408.993           5.6   \n",
       " 278                                1156.777          32.0   \n",
       " 279                                1783.180          18.1   \n",
       " 282                                2275.877           4.5   \n",
       " \n",
       "      Y house price of unit area  cluster  \n",
       " 4                          20.9        1  \n",
       " 5                          29.4        1  \n",
       " 9                          28.4        1  \n",
       " 14                         17.7        1  \n",
       " 24                         25.6        1  \n",
       " ..                          ...      ...  \n",
       " 255                        23.5        1  \n",
       " 274                        24.7        1  \n",
       " 278                        12.8        1  \n",
       " 279                        20.9        1  \n",
       " 282                        29.3        1  \n",
       " \n",
       " [62 rows x 4 columns],\n",
       "      X3 distance to the nearest MRT station  X2 house age  \\\n",
       " 1                                  3771.895          15.2   \n",
       " 3                                  4573.779          13.9   \n",
       " 42                                 4519.690          25.6   \n",
       " 53                                 3947.945          23.0   \n",
       " 65                                 6306.153          18.0   \n",
       " 71                                 3171.329          11.9   \n",
       " 76                                 4136.271          32.6   \n",
       " 77                                 4066.587          16.1   \n",
       " 78                                 4197.349          13.6   \n",
       " 90                                 4082.015          17.0   \n",
       " 106                                4197.349          13.6   \n",
       " 110                                4082.015          16.7   \n",
       " 113                                5512.038          31.5   \n",
       " 117                                4066.587          16.9   \n",
       " 122                                4412.765          27.1   \n",
       " 147                                4079.418          13.9   \n",
       " 149                                4527.687          24.0   \n",
       " 160                                4066.587          16.8   \n",
       " 170                                4082.015          16.5   \n",
       " 188                                4066.587          16.0   \n",
       " 194                                5512.038          31.7   \n",
       " 199                                4082.015          13.6   \n",
       " 225                                4510.359          29.4   \n",
       " 252                                4066.587          16.3   \n",
       " 254                                3078.176           8.9   \n",
       " 256                                4510.359          30.3   \n",
       " 257                                4605.749          24.2   \n",
       " 258                                3085.170          34.6   \n",
       " 277                                4066.587          16.9   \n",
       " \n",
       "      Y house price of unit area  cluster  \n",
       " 1                          29.3        2  \n",
       " 3                          19.2        2  \n",
       " 42                         15.6        2  \n",
       " 53                         25.3        2  \n",
       " 65                         15.0        2  \n",
       " 71                         46.6        2  \n",
       " 76                         24.7        2  \n",
       " 77                         12.9        2  \n",
       " 78                         19.2        2  \n",
       " 90                         18.8        2  \n",
       " 106                        13.0        2  \n",
       " 110                        16.7        2  \n",
       " 113                        17.4        2  \n",
       " 117                        20.7        2  \n",
       " 122                        17.4        2  \n",
       " 147                        27.3        2  \n",
       " 149                        14.4        2  \n",
       " 160                        18.2        2  \n",
       " 170                        12.8        2  \n",
       " 188                        11.6        2  \n",
       " 194                        18.8        2  \n",
       " 199                        15.9        2  \n",
       " 225                        13.2        2  \n",
       " 252                        20.5        2  \n",
       " 254                        22.0        2  \n",
       " 256                        22.6        2  \n",
       " 257                        13.4        2  \n",
       " 258                        41.2        2  \n",
       " 277                        18.3        2  ]"
      ]
     },
     "execution_count": 20,
     "metadata": {},
     "output_type": "execute_result"
    }
   ],
   "source": [
    "train_clusters_df"
   ]
  },
  {
   "cell_type": "code",
   "execution_count": 21,
   "metadata": {
    "colab": {
     "base_uri": "https://localhost:8080/",
     "height": 423
    },
    "executionInfo": {
     "elapsed": 287,
     "status": "ok",
     "timestamp": 1684654958524,
     "user": {
      "displayName": "Federico Cestau",
      "userId": "13640704496125988040"
     },
     "user_tz": 180
    },
    "id": "LceC9nKnQNY0",
    "outputId": "5c4ed1d5-0695-4e30-b39d-fc0855d53cda"
   },
   "outputs": [
    {
     "data": {
      "text/html": [
       "\n",
       "  <div id=\"df-120363b7-84fd-41d2-9df6-d1baf5b6d071\">\n",
       "    <div class=\"colab-df-container\">\n",
       "      <div>\n",
       "<style scoped>\n",
       "    .dataframe tbody tr th:only-of-type {\n",
       "        vertical-align: middle;\n",
       "    }\n",
       "\n",
       "    .dataframe tbody tr th {\n",
       "        vertical-align: top;\n",
       "    }\n",
       "\n",
       "    .dataframe thead th {\n",
       "        text-align: right;\n",
       "    }\n",
       "</style>\n",
       "<table border=\"1\" class=\"dataframe\">\n",
       "  <thead>\n",
       "    <tr style=\"text-align: right;\">\n",
       "      <th></th>\n",
       "      <th>X3 distance to the nearest MRT station</th>\n",
       "      <th>X2 house age</th>\n",
       "      <th>Y house price of unit area</th>\n",
       "      <th>cluster</th>\n",
       "    </tr>\n",
       "  </thead>\n",
       "  <tbody>\n",
       "    <tr>\n",
       "      <th>0</th>\n",
       "      <td>287.60250</td>\n",
       "      <td>20.3</td>\n",
       "      <td>46.7</td>\n",
       "      <td>0</td>\n",
       "    </tr>\n",
       "    <tr>\n",
       "      <th>2</th>\n",
       "      <td>23.38284</td>\n",
       "      <td>1.5</td>\n",
       "      <td>47.7</td>\n",
       "      <td>0</td>\n",
       "    </tr>\n",
       "    <tr>\n",
       "      <th>6</th>\n",
       "      <td>157.60520</td>\n",
       "      <td>34.0</td>\n",
       "      <td>39.1</td>\n",
       "      <td>0</td>\n",
       "    </tr>\n",
       "    <tr>\n",
       "      <th>7</th>\n",
       "      <td>451.24380</td>\n",
       "      <td>2.1</td>\n",
       "      <td>45.5</td>\n",
       "      <td>0</td>\n",
       "    </tr>\n",
       "    <tr>\n",
       "      <th>8</th>\n",
       "      <td>815.93140</td>\n",
       "      <td>15.7</td>\n",
       "      <td>38.1</td>\n",
       "      <td>0</td>\n",
       "    </tr>\n",
       "    <tr>\n",
       "      <th>...</th>\n",
       "      <td>...</td>\n",
       "      <td>...</td>\n",
       "      <td>...</td>\n",
       "      <td>...</td>\n",
       "    </tr>\n",
       "    <tr>\n",
       "      <th>284</th>\n",
       "      <td>640.73910</td>\n",
       "      <td>35.5</td>\n",
       "      <td>40.8</td>\n",
       "      <td>0</td>\n",
       "    </tr>\n",
       "    <tr>\n",
       "      <th>285</th>\n",
       "      <td>189.51810</td>\n",
       "      <td>17.2</td>\n",
       "      <td>47.1</td>\n",
       "      <td>0</td>\n",
       "    </tr>\n",
       "    <tr>\n",
       "      <th>286</th>\n",
       "      <td>252.58220</td>\n",
       "      <td>10.8</td>\n",
       "      <td>117.5</td>\n",
       "      <td>0</td>\n",
       "    </tr>\n",
       "    <tr>\n",
       "      <th>287</th>\n",
       "      <td>259.66070</td>\n",
       "      <td>4.6</td>\n",
       "      <td>53.7</td>\n",
       "      <td>0</td>\n",
       "    </tr>\n",
       "    <tr>\n",
       "      <th>288</th>\n",
       "      <td>193.58450</td>\n",
       "      <td>1.1</td>\n",
       "      <td>54.4</td>\n",
       "      <td>0</td>\n",
       "    </tr>\n",
       "  </tbody>\n",
       "</table>\n",
       "<p>198 rows × 4 columns</p>\n",
       "</div>\n",
       "      <button class=\"colab-df-convert\" onclick=\"convertToInteractive('df-120363b7-84fd-41d2-9df6-d1baf5b6d071')\"\n",
       "              title=\"Convert this dataframe to an interactive table.\"\n",
       "              style=\"display:none;\">\n",
       "        \n",
       "  <svg xmlns=\"http://www.w3.org/2000/svg\" height=\"24px\"viewBox=\"0 0 24 24\"\n",
       "       width=\"24px\">\n",
       "    <path d=\"M0 0h24v24H0V0z\" fill=\"none\"/>\n",
       "    <path d=\"M18.56 5.44l.94 2.06.94-2.06 2.06-.94-2.06-.94-.94-2.06-.94 2.06-2.06.94zm-11 1L8.5 8.5l.94-2.06 2.06-.94-2.06-.94L8.5 2.5l-.94 2.06-2.06.94zm10 10l.94 2.06.94-2.06 2.06-.94-2.06-.94-.94-2.06-.94 2.06-2.06.94z\"/><path d=\"M17.41 7.96l-1.37-1.37c-.4-.4-.92-.59-1.43-.59-.52 0-1.04.2-1.43.59L10.3 9.45l-7.72 7.72c-.78.78-.78 2.05 0 2.83L4 21.41c.39.39.9.59 1.41.59.51 0 1.02-.2 1.41-.59l7.78-7.78 2.81-2.81c.8-.78.8-2.07 0-2.86zM5.41 20L4 18.59l7.72-7.72 1.47 1.35L5.41 20z\"/>\n",
       "  </svg>\n",
       "      </button>\n",
       "      \n",
       "  <style>\n",
       "    .colab-df-container {\n",
       "      display:flex;\n",
       "      flex-wrap:wrap;\n",
       "      gap: 12px;\n",
       "    }\n",
       "\n",
       "    .colab-df-convert {\n",
       "      background-color: #E8F0FE;\n",
       "      border: none;\n",
       "      border-radius: 50%;\n",
       "      cursor: pointer;\n",
       "      display: none;\n",
       "      fill: #1967D2;\n",
       "      height: 32px;\n",
       "      padding: 0 0 0 0;\n",
       "      width: 32px;\n",
       "    }\n",
       "\n",
       "    .colab-df-convert:hover {\n",
       "      background-color: #E2EBFA;\n",
       "      box-shadow: 0px 1px 2px rgba(60, 64, 67, 0.3), 0px 1px 3px 1px rgba(60, 64, 67, 0.15);\n",
       "      fill: #174EA6;\n",
       "    }\n",
       "\n",
       "    [theme=dark] .colab-df-convert {\n",
       "      background-color: #3B4455;\n",
       "      fill: #D2E3FC;\n",
       "    }\n",
       "\n",
       "    [theme=dark] .colab-df-convert:hover {\n",
       "      background-color: #434B5C;\n",
       "      box-shadow: 0px 1px 3px 1px rgba(0, 0, 0, 0.15);\n",
       "      filter: drop-shadow(0px 1px 2px rgba(0, 0, 0, 0.3));\n",
       "      fill: #FFFFFF;\n",
       "    }\n",
       "  </style>\n",
       "\n",
       "      <script>\n",
       "        const buttonEl =\n",
       "          document.querySelector('#df-120363b7-84fd-41d2-9df6-d1baf5b6d071 button.colab-df-convert');\n",
       "        buttonEl.style.display =\n",
       "          google.colab.kernel.accessAllowed ? 'block' : 'none';\n",
       "\n",
       "        async function convertToInteractive(key) {\n",
       "          const element = document.querySelector('#df-120363b7-84fd-41d2-9df6-d1baf5b6d071');\n",
       "          const dataTable =\n",
       "            await google.colab.kernel.invokeFunction('convertToInteractive',\n",
       "                                                     [key], {});\n",
       "          if (!dataTable) return;\n",
       "\n",
       "          const docLinkHtml = 'Like what you see? Visit the ' +\n",
       "            '<a target=\"_blank\" href=https://colab.research.google.com/notebooks/data_table.ipynb>data table notebook</a>'\n",
       "            + ' to learn more about interactive tables.';\n",
       "          element.innerHTML = '';\n",
       "          dataTable['output_type'] = 'display_data';\n",
       "          await google.colab.output.renderOutput(dataTable, element);\n",
       "          const docLink = document.createElement('div');\n",
       "          docLink.innerHTML = docLinkHtml;\n",
       "          element.appendChild(docLink);\n",
       "        }\n",
       "      </script>\n",
       "    </div>\n",
       "  </div>\n",
       "  "
      ],
      "text/plain": [
       "     X3 distance to the nearest MRT station  X2 house age  \\\n",
       "0                                 287.60250          20.3   \n",
       "2                                  23.38284           1.5   \n",
       "6                                 157.60520          34.0   \n",
       "7                                 451.24380           2.1   \n",
       "8                                 815.93140          15.7   \n",
       "..                                      ...           ...   \n",
       "284                               640.73910          35.5   \n",
       "285                               189.51810          17.2   \n",
       "286                               252.58220          10.8   \n",
       "287                               259.66070           4.6   \n",
       "288                               193.58450           1.1   \n",
       "\n",
       "     Y house price of unit area  cluster  \n",
       "0                          46.7        0  \n",
       "2                          47.7        0  \n",
       "6                          39.1        0  \n",
       "7                          45.5        0  \n",
       "8                          38.1        0  \n",
       "..                          ...      ...  \n",
       "284                        40.8        0  \n",
       "285                        47.1        0  \n",
       "286                       117.5        0  \n",
       "287                        53.7        0  \n",
       "288                        54.4        0  \n",
       "\n",
       "[198 rows x 4 columns]"
      ]
     },
     "execution_count": 21,
     "metadata": {},
     "output_type": "execute_result"
    }
   ],
   "source": [
    "train_clusters_df[0]"
   ]
  },
  {
   "cell_type": "code",
   "execution_count": 22,
   "metadata": {
    "colab": {
     "base_uri": "https://localhost:8080/",
     "height": 423
    },
    "executionInfo": {
     "elapsed": 7,
     "status": "ok",
     "timestamp": 1684654970700,
     "user": {
      "displayName": "Federico Cestau",
      "userId": "13640704496125988040"
     },
     "user_tz": 180
    },
    "id": "9mncSN7yQqKE",
    "outputId": "c76c3e8f-3f66-4d86-f737-7285aa841e25"
   },
   "outputs": [
    {
     "data": {
      "text/html": [
       "\n",
       "  <div id=\"df-f598eefa-d453-4128-8c44-83a5a3a512ce\">\n",
       "    <div class=\"colab-df-container\">\n",
       "      <div>\n",
       "<style scoped>\n",
       "    .dataframe tbody tr th:only-of-type {\n",
       "        vertical-align: middle;\n",
       "    }\n",
       "\n",
       "    .dataframe tbody tr th {\n",
       "        vertical-align: top;\n",
       "    }\n",
       "\n",
       "    .dataframe thead th {\n",
       "        text-align: right;\n",
       "    }\n",
       "</style>\n",
       "<table border=\"1\" class=\"dataframe\">\n",
       "  <thead>\n",
       "    <tr style=\"text-align: right;\">\n",
       "      <th></th>\n",
       "      <th>X3 distance to the nearest MRT station</th>\n",
       "      <th>X2 house age</th>\n",
       "      <th>Y house price of unit area</th>\n",
       "      <th>cluster</th>\n",
       "    </tr>\n",
       "  </thead>\n",
       "  <tbody>\n",
       "    <tr>\n",
       "      <th>4</th>\n",
       "      <td>1828.319</td>\n",
       "      <td>15.0</td>\n",
       "      <td>20.9</td>\n",
       "      <td>1</td>\n",
       "    </tr>\n",
       "    <tr>\n",
       "      <th>5</th>\n",
       "      <td>1626.083</td>\n",
       "      <td>20.0</td>\n",
       "      <td>29.4</td>\n",
       "      <td>1</td>\n",
       "    </tr>\n",
       "    <tr>\n",
       "      <th>9</th>\n",
       "      <td>2147.376</td>\n",
       "      <td>4.0</td>\n",
       "      <td>28.4</td>\n",
       "      <td>1</td>\n",
       "    </tr>\n",
       "    <tr>\n",
       "      <th>14</th>\n",
       "      <td>2707.392</td>\n",
       "      <td>25.3</td>\n",
       "      <td>17.7</td>\n",
       "      <td>1</td>\n",
       "    </tr>\n",
       "    <tr>\n",
       "      <th>24</th>\n",
       "      <td>2103.555</td>\n",
       "      <td>16.2</td>\n",
       "      <td>25.6</td>\n",
       "      <td>1</td>\n",
       "    </tr>\n",
       "    <tr>\n",
       "      <th>...</th>\n",
       "      <td>...</td>\n",
       "      <td>...</td>\n",
       "      <td>...</td>\n",
       "      <td>...</td>\n",
       "    </tr>\n",
       "    <tr>\n",
       "      <th>255</th>\n",
       "      <td>1962.628</td>\n",
       "      <td>8.4</td>\n",
       "      <td>23.5</td>\n",
       "      <td>1</td>\n",
       "    </tr>\n",
       "    <tr>\n",
       "      <th>274</th>\n",
       "      <td>2408.993</td>\n",
       "      <td>5.6</td>\n",
       "      <td>24.7</td>\n",
       "      <td>1</td>\n",
       "    </tr>\n",
       "    <tr>\n",
       "      <th>278</th>\n",
       "      <td>1156.777</td>\n",
       "      <td>32.0</td>\n",
       "      <td>12.8</td>\n",
       "      <td>1</td>\n",
       "    </tr>\n",
       "    <tr>\n",
       "      <th>279</th>\n",
       "      <td>1783.180</td>\n",
       "      <td>18.1</td>\n",
       "      <td>20.9</td>\n",
       "      <td>1</td>\n",
       "    </tr>\n",
       "    <tr>\n",
       "      <th>282</th>\n",
       "      <td>2275.877</td>\n",
       "      <td>4.5</td>\n",
       "      <td>29.3</td>\n",
       "      <td>1</td>\n",
       "    </tr>\n",
       "  </tbody>\n",
       "</table>\n",
       "<p>62 rows × 4 columns</p>\n",
       "</div>\n",
       "      <button class=\"colab-df-convert\" onclick=\"convertToInteractive('df-f598eefa-d453-4128-8c44-83a5a3a512ce')\"\n",
       "              title=\"Convert this dataframe to an interactive table.\"\n",
       "              style=\"display:none;\">\n",
       "        \n",
       "  <svg xmlns=\"http://www.w3.org/2000/svg\" height=\"24px\"viewBox=\"0 0 24 24\"\n",
       "       width=\"24px\">\n",
       "    <path d=\"M0 0h24v24H0V0z\" fill=\"none\"/>\n",
       "    <path d=\"M18.56 5.44l.94 2.06.94-2.06 2.06-.94-2.06-.94-.94-2.06-.94 2.06-2.06.94zm-11 1L8.5 8.5l.94-2.06 2.06-.94-2.06-.94L8.5 2.5l-.94 2.06-2.06.94zm10 10l.94 2.06.94-2.06 2.06-.94-2.06-.94-.94-2.06-.94 2.06-2.06.94z\"/><path d=\"M17.41 7.96l-1.37-1.37c-.4-.4-.92-.59-1.43-.59-.52 0-1.04.2-1.43.59L10.3 9.45l-7.72 7.72c-.78.78-.78 2.05 0 2.83L4 21.41c.39.39.9.59 1.41.59.51 0 1.02-.2 1.41-.59l7.78-7.78 2.81-2.81c.8-.78.8-2.07 0-2.86zM5.41 20L4 18.59l7.72-7.72 1.47 1.35L5.41 20z\"/>\n",
       "  </svg>\n",
       "      </button>\n",
       "      \n",
       "  <style>\n",
       "    .colab-df-container {\n",
       "      display:flex;\n",
       "      flex-wrap:wrap;\n",
       "      gap: 12px;\n",
       "    }\n",
       "\n",
       "    .colab-df-convert {\n",
       "      background-color: #E8F0FE;\n",
       "      border: none;\n",
       "      border-radius: 50%;\n",
       "      cursor: pointer;\n",
       "      display: none;\n",
       "      fill: #1967D2;\n",
       "      height: 32px;\n",
       "      padding: 0 0 0 0;\n",
       "      width: 32px;\n",
       "    }\n",
       "\n",
       "    .colab-df-convert:hover {\n",
       "      background-color: #E2EBFA;\n",
       "      box-shadow: 0px 1px 2px rgba(60, 64, 67, 0.3), 0px 1px 3px 1px rgba(60, 64, 67, 0.15);\n",
       "      fill: #174EA6;\n",
       "    }\n",
       "\n",
       "    [theme=dark] .colab-df-convert {\n",
       "      background-color: #3B4455;\n",
       "      fill: #D2E3FC;\n",
       "    }\n",
       "\n",
       "    [theme=dark] .colab-df-convert:hover {\n",
       "      background-color: #434B5C;\n",
       "      box-shadow: 0px 1px 3px 1px rgba(0, 0, 0, 0.15);\n",
       "      filter: drop-shadow(0px 1px 2px rgba(0, 0, 0, 0.3));\n",
       "      fill: #FFFFFF;\n",
       "    }\n",
       "  </style>\n",
       "\n",
       "      <script>\n",
       "        const buttonEl =\n",
       "          document.querySelector('#df-f598eefa-d453-4128-8c44-83a5a3a512ce button.colab-df-convert');\n",
       "        buttonEl.style.display =\n",
       "          google.colab.kernel.accessAllowed ? 'block' : 'none';\n",
       "\n",
       "        async function convertToInteractive(key) {\n",
       "          const element = document.querySelector('#df-f598eefa-d453-4128-8c44-83a5a3a512ce');\n",
       "          const dataTable =\n",
       "            await google.colab.kernel.invokeFunction('convertToInteractive',\n",
       "                                                     [key], {});\n",
       "          if (!dataTable) return;\n",
       "\n",
       "          const docLinkHtml = 'Like what you see? Visit the ' +\n",
       "            '<a target=\"_blank\" href=https://colab.research.google.com/notebooks/data_table.ipynb>data table notebook</a>'\n",
       "            + ' to learn more about interactive tables.';\n",
       "          element.innerHTML = '';\n",
       "          dataTable['output_type'] = 'display_data';\n",
       "          await google.colab.output.renderOutput(dataTable, element);\n",
       "          const docLink = document.createElement('div');\n",
       "          docLink.innerHTML = docLinkHtml;\n",
       "          element.appendChild(docLink);\n",
       "        }\n",
       "      </script>\n",
       "    </div>\n",
       "  </div>\n",
       "  "
      ],
      "text/plain": [
       "     X3 distance to the nearest MRT station  X2 house age  \\\n",
       "4                                  1828.319          15.0   \n",
       "5                                  1626.083          20.0   \n",
       "9                                  2147.376           4.0   \n",
       "14                                 2707.392          25.3   \n",
       "24                                 2103.555          16.2   \n",
       "..                                      ...           ...   \n",
       "255                                1962.628           8.4   \n",
       "274                                2408.993           5.6   \n",
       "278                                1156.777          32.0   \n",
       "279                                1783.180          18.1   \n",
       "282                                2275.877           4.5   \n",
       "\n",
       "     Y house price of unit area  cluster  \n",
       "4                          20.9        1  \n",
       "5                          29.4        1  \n",
       "9                          28.4        1  \n",
       "14                         17.7        1  \n",
       "24                         25.6        1  \n",
       "..                          ...      ...  \n",
       "255                        23.5        1  \n",
       "274                        24.7        1  \n",
       "278                        12.8        1  \n",
       "279                        20.9        1  \n",
       "282                        29.3        1  \n",
       "\n",
       "[62 rows x 4 columns]"
      ]
     },
     "execution_count": 22,
     "metadata": {},
     "output_type": "execute_result"
    }
   ],
   "source": [
    "train_clusters_df[1]"
   ]
  },
  {
   "cell_type": "code",
   "execution_count": 23,
   "metadata": {
    "colab": {
     "base_uri": "https://localhost:8080/",
     "height": 651
    },
    "executionInfo": {
     "elapsed": 982,
     "status": "ok",
     "timestamp": 1684655044573,
     "user": {
      "displayName": "Federico Cestau",
      "userId": "13640704496125988040"
     },
     "user_tz": 180
    },
    "id": "tpXxpNZ5QtOD",
    "outputId": "223cb471-3ecd-4437-f611-f57b66b2e6bf"
   },
   "outputs": [
    {
     "data": {
      "image/png": "[encoded data removed]",
      "text/plain": [
       "<Figure size 1400x700 with 1 Axes>"
      ]
     },
     "metadata": {},
     "output_type": "display_data"
    }
   ],
   "source": [
    "colors = ['red','green','blue']\n",
    "plt.rcParams['figure.figsize'] = [14, 7]\n",
    "plt.rc('font', size=12)\n",
    "\n",
    "# Plot X_train again with features labeled by cluster\n",
    "for i in range(n_clusters):\n",
    "  subset = []\n",
    "  for count,row in enumerate(X_train):\n",
    "      if(train_cluster[count]==i):\n",
    "        subset.append(row)\n",
    "\n",
    "  x = [row[0] for row in subset]\n",
    "  y = [row[1] for row in subset]\n",
    "  plt.scatter(x,y,c=colors[i],label=\"cluster \"+ str(i+1))\n",
    "plt.title(\"Train Data Clusters\", x=0.6, y=0.95)\n",
    "plt.xlabel(\"X3 distance to the nearest MRT station\")\n",
    "plt.ylabel(\"X2 house age\")\n",
    "plt.legend()\n",
    "plt.show()"
   ]
  },
  {
   "cell_type": "code",
   "execution_count": null,
   "metadata": {
    "id": "opBtdZRERB_H"
   },
   "outputs": [],
   "source": [
    "# Generate out clusters\n",
    "train_cluster = kmeans.predict(X_train)"
   ]
  },
  {
   "cell_type": "markdown",
   "metadata": {
    "id": "nUMQ4_FsTPfW"
   },
   "source": [
    "Building SVR for clusters"
   ]
  },
  {
   "cell_type": "code",
   "execution_count": 25,
   "metadata": {
    "executionInfo": {
     "elapsed": 4,
     "status": "ok",
     "timestamp": 1684655720265,
     "user": {
      "displayName": "Federico Cestau",
      "userId": "13640704496125988040"
     },
     "user_tz": 180
    },
    "id": "jOkN9UyQRCCG"
   },
   "outputs": [],
   "source": [
    "import pandas as pd\n",
    "import numpy as np\n",
    "from sklearn.svm import SVR\n",
    "\n",
    "n_clusters=3\n",
    "cluster_svr = []\n",
    "model = SVR(kernel='rbf', C=1000, epsilon=1)\n",
    "\n",
    "for i in range(n_clusters):\n",
    "    cluster_X = np.array((train_clusters_df[i])[['X3 distance to the nearest MRT station','X2 house age']])\n",
    "    cluster_Y = (train_clusters_df[i])['Y house price of unit area'].values\n",
    "    cluster_svr.append(model.fit(cluster_X, cluster_Y))"
   ]
  },
  {
   "cell_type": "code",
   "execution_count": 26,
   "metadata": {
    "colab": {
     "base_uri": "https://localhost:8080/"
    },
    "executionInfo": {
     "elapsed": 292,
     "status": "ok",
     "timestamp": 1684655728115,
     "user": {
      "displayName": "Federico Cestau",
      "userId": "13640704496125988040"
     },
     "user_tz": 180
    },
    "id": "E1BCw26QRCEz",
    "outputId": "bdcf847c-c815-448a-f0af-b4606b43b998"
   },
   "outputs": [
    {
     "data": {
      "text/plain": [
       "[SVR(C=1000, epsilon=1), SVR(C=1000, epsilon=1), SVR(C=1000, epsilon=1)]"
      ]
     },
     "execution_count": 26,
     "metadata": {},
     "output_type": "execute_result"
    }
   ],
   "source": [
    "cluster_svr"
   ]
  },
  {
   "cell_type": "code",
   "execution_count": 30,
   "metadata": {
    "executionInfo": {
     "elapsed": 3,
     "status": "ok",
     "timestamp": 1684656122754,
     "user": {
      "displayName": "Federico Cestau",
      "userId": "13640704496125988040"
     },
     "user_tz": 180
    },
    "id": "5v0fLNcbUtdH"
   },
   "outputs": [],
   "source": [
    "def regression_function(arr, kmeans, cluster_svr):\n",
    "    result = []\n",
    "    clusters_pred = kmeans.predict(arr)\n",
    "    for i,data in enumerate(arr):\n",
    "        result.append(((cluster_svr[clusters_pred[i]]).predict([data]))[0])\n",
    "    return result,clusters_pred"
   ]
  },
  {
   "cell_type": "code",
   "execution_count": 31,
   "metadata": {
    "executionInfo": {
     "elapsed": 1558,
     "status": "ok",
     "timestamp": 1684656135781,
     "user": {
      "displayName": "Federico Cestau",
      "userId": "13640704496125988040"
     },
     "user_tz": 180
    },
    "id": "Y5YpLE6XRCI_"
   },
   "outputs": [],
   "source": [
    "from sklearn.cluster import KMeans\n",
    "import matplotlib.pyplot as plt\n",
    "\n",
    "# calculating Y value and cluster\n",
    "Y_svr_k_means_pred, Y_clusters = regression_function(X_test,\n",
    "\tkmeans, cluster_svr)"
   ]
  },
  {
   "cell_type": "code",
   "execution_count": 32,
   "metadata": {
    "colab": {
     "base_uri": "https://localhost:8080/",
     "height": 651
    },
    "executionInfo": {
     "elapsed": 691,
     "status": "ok",
     "timestamp": 1684656168707,
     "user": {
      "displayName": "Federico Cestau",
      "userId": "13640704496125988040"
     },
     "user_tz": 180
    },
    "id": "8lYwbD6kRCLo",
    "outputId": "45463295-9e77-468a-e26f-ce5a0c977867"
   },
   "outputs": [
    {
     "data": {
      "image/png": "[encoded data removed]",
      "text/plain": [
       "<Figure size 1400x700 with 1 Axes>"
      ]
     },
     "metadata": {},
     "output_type": "display_data"
    }
   ],
   "source": [
    "colors = ['red','green','blue']\n",
    "plt.rcParams['figure.figsize'] = [14, 7]\n",
    "plt.rc('font', size=12)\n",
    "\n",
    "n_clusters=3\n",
    "\n",
    "# Apply our model to clustering the remaining test set for validation\n",
    "\n",
    "for i in range(n_clusters):\n",
    "  subset = []\n",
    "  for count,row in enumerate(X_test):\n",
    "      if(Y_clusters[count]==i):\n",
    "        subset.append(row)\n",
    "\n",
    "  x = [row[0] for row in subset]\n",
    "  y = [row[1] for row in subset]\n",
    "  plt.scatter(x,y,c=colors[i],label=\"cluster \"+ str(i+1))\n",
    "plt.title(\"Test Data Clusters\", x=0.6, y=0.95)\n",
    "plt.xlabel(\"X3 distance to the nearest MRT station\")\n",
    "plt.ylabel(\"X2 house age\")\n",
    "plt.legend()\n",
    "plt.show()"
   ]
  },
  {
   "cell_type": "markdown",
   "metadata": {
    "id": "p6vsqbIPVcDH"
   },
   "source": [
    "We can clearly see that we have got definite clusters for test data, and, also, got the Y value and have been stored in Y_svr_k_means_pred. Let us store the results and data into a data frame along with the cluster."
   ]
  },
  {
   "cell_type": "code",
   "execution_count": 36,
   "metadata": {
    "colab": {
     "base_uri": "https://localhost:8080/",
     "height": 206
    },
    "executionInfo": {
     "elapsed": 483,
     "status": "ok",
     "timestamp": 1684656618497,
     "user": {
      "displayName": "Federico Cestau",
      "userId": "13640704496125988040"
     },
     "user_tz": 180
    },
    "id": "rVcl5IlhRCOR",
    "outputId": "1c477b50-8e8c-4747-e6f8-8d342cb96238"
   },
   "outputs": [
    {
     "data": {
      "text/html": [
       "\n",
       "  <div id=\"df-35e9790b-5909-4954-acf7-e257bcf14feb\">\n",
       "    <div class=\"colab-df-container\">\n",
       "      <div>\n",
       "<style scoped>\n",
       "    .dataframe tbody tr th:only-of-type {\n",
       "        vertical-align: middle;\n",
       "    }\n",
       "\n",
       "    .dataframe tbody tr th {\n",
       "        vertical-align: top;\n",
       "    }\n",
       "\n",
       "    .dataframe thead th {\n",
       "        text-align: right;\n",
       "    }\n",
       "</style>\n",
       "<table border=\"1\" class=\"dataframe\">\n",
       "  <thead>\n",
       "    <tr style=\"text-align: right;\">\n",
       "      <th></th>\n",
       "      <th>X3 distance to the nearest MRT station</th>\n",
       "      <th>X2 house age</th>\n",
       "      <th>Y_true_value</th>\n",
       "      <th>YSVR_K_means</th>\n",
       "      <th>cluster</th>\n",
       "    </tr>\n",
       "  </thead>\n",
       "  <tbody>\n",
       "    <tr>\n",
       "      <th>0</th>\n",
       "      <td>193.5845</td>\n",
       "      <td>1.1</td>\n",
       "      <td>45.1</td>\n",
       "      <td>70.943672</td>\n",
       "      <td>0</td>\n",
       "    </tr>\n",
       "    <tr>\n",
       "      <th>1</th>\n",
       "      <td>492.2313</td>\n",
       "      <td>13.2</td>\n",
       "      <td>42.3</td>\n",
       "      <td>74.662003</td>\n",
       "      <td>0</td>\n",
       "    </tr>\n",
       "    <tr>\n",
       "      <th>2</th>\n",
       "      <td>274.0144</td>\n",
       "      <td>0.0</td>\n",
       "      <td>52.2</td>\n",
       "      <td>72.037664</td>\n",
       "      <td>0</td>\n",
       "    </tr>\n",
       "    <tr>\n",
       "      <th>3</th>\n",
       "      <td>170.1289</td>\n",
       "      <td>12.7</td>\n",
       "      <td>37.3</td>\n",
       "      <td>70.631881</td>\n",
       "      <td>0</td>\n",
       "    </tr>\n",
       "    <tr>\n",
       "      <th>4</th>\n",
       "      <td>2185.1280</td>\n",
       "      <td>20.2</td>\n",
       "      <td>22.8</td>\n",
       "      <td>64.385493</td>\n",
       "      <td>1</td>\n",
       "    </tr>\n",
       "  </tbody>\n",
       "</table>\n",
       "</div>\n",
       "      <button class=\"colab-df-convert\" onclick=\"convertToInteractive('df-35e9790b-5909-4954-acf7-e257bcf14feb')\"\n",
       "              title=\"Convert this dataframe to an interactive table.\"\n",
       "              style=\"display:none;\">\n",
       "        \n",
       "  <svg xmlns=\"http://www.w3.org/2000/svg\" height=\"24px\"viewBox=\"0 0 24 24\"\n",
       "       width=\"24px\">\n",
       "    <path d=\"M0 0h24v24H0V0z\" fill=\"none\"/>\n",
       "    <path d=\"M18.56 5.44l.94 2.06.94-2.06 2.06-.94-2.06-.94-.94-2.06-.94 2.06-2.06.94zm-11 1L8.5 8.5l.94-2.06 2.06-.94-2.06-.94L8.5 2.5l-.94 2.06-2.06.94zm10 10l.94 2.06.94-2.06 2.06-.94-2.06-.94-.94-2.06-.94 2.06-2.06.94z\"/><path d=\"M17.41 7.96l-1.37-1.37c-.4-.4-.92-.59-1.43-.59-.52 0-1.04.2-1.43.59L10.3 9.45l-7.72 7.72c-.78.78-.78 2.05 0 2.83L4 21.41c.39.39.9.59 1.41.59.51 0 1.02-.2 1.41-.59l7.78-7.78 2.81-2.81c.8-.78.8-2.07 0-2.86zM5.41 20L4 18.59l7.72-7.72 1.47 1.35L5.41 20z\"/>\n",
       "  </svg>\n",
       "      </button>\n",
       "      \n",
       "  <style>\n",
       "    .colab-df-container {\n",
       "      display:flex;\n",
       "      flex-wrap:wrap;\n",
       "      gap: 12px;\n",
       "    }\n",
       "\n",
       "    .colab-df-convert {\n",
       "      background-color: #E8F0FE;\n",
       "      border: none;\n",
       "      border-radius: 50%;\n",
       "      cursor: pointer;\n",
       "      display: none;\n",
       "      fill: #1967D2;\n",
       "      height: 32px;\n",
       "      padding: 0 0 0 0;\n",
       "      width: 32px;\n",
       "    }\n",
       "\n",
       "    .colab-df-convert:hover {\n",
       "      background-color: #E2EBFA;\n",
       "      box-shadow: 0px 1px 2px rgba(60, 64, 67, 0.3), 0px 1px 3px 1px rgba(60, 64, 67, 0.15);\n",
       "      fill: #174EA6;\n",
       "    }\n",
       "\n",
       "    [theme=dark] .colab-df-convert {\n",
       "      background-color: #3B4455;\n",
       "      fill: #D2E3FC;\n",
       "    }\n",
       "\n",
       "    [theme=dark] .colab-df-convert:hover {\n",
       "      background-color: #434B5C;\n",
       "      box-shadow: 0px 1px 3px 1px rgba(0, 0, 0, 0.15);\n",
       "      filter: drop-shadow(0px 1px 2px rgba(0, 0, 0, 0.3));\n",
       "      fill: #FFFFFF;\n",
       "    }\n",
       "  </style>\n",
       "\n",
       "      <script>\n",
       "        const buttonEl =\n",
       "          document.querySelector('#df-35e9790b-5909-4954-acf7-e257bcf14feb button.colab-df-convert');\n",
       "        buttonEl.style.display =\n",
       "          google.colab.kernel.accessAllowed ? 'block' : 'none';\n",
       "\n",
       "        async function convertToInteractive(key) {\n",
       "          const element = document.querySelector('#df-35e9790b-5909-4954-acf7-e257bcf14feb');\n",
       "          const dataTable =\n",
       "            await google.colab.kernel.invokeFunction('convertToInteractive',\n",
       "                                                     [key], {});\n",
       "          if (!dataTable) return;\n",
       "\n",
       "          const docLinkHtml = 'Like what you see? Visit the ' +\n",
       "            '<a target=\"_blank\" href=https://colab.research.google.com/notebooks/data_table.ipynb>data table notebook</a>'\n",
       "            + ' to learn more about interactive tables.';\n",
       "          element.innerHTML = '';\n",
       "          dataTable['output_type'] = 'display_data';\n",
       "          await google.colab.output.renderOutput(dataTable, element);\n",
       "          const docLink = document.createElement('div');\n",
       "          docLink.innerHTML = docLinkHtml;\n",
       "          element.appendChild(docLink);\n",
       "        }\n",
       "      </script>\n",
       "    </div>\n",
       "  </div>\n",
       "  "
      ],
      "text/plain": [
       "   X3 distance to the nearest MRT station  X2 house age  Y_true_value  \\\n",
       "0                                193.5845           1.1          45.1   \n",
       "1                                492.2313          13.2          42.3   \n",
       "2                                274.0144           0.0          52.2   \n",
       "3                                170.1289          12.7          37.3   \n",
       "4                               2185.1280          20.2          22.8   \n",
       "\n",
       "   YSVR_K_means  cluster  \n",
       "0     70.943672        0  \n",
       "1     74.662003        0  \n",
       "2     72.037664        0  \n",
       "3     70.631881        0  \n",
       "4     64.385493        1  "
      ]
     },
     "execution_count": 36,
     "metadata": {},
     "output_type": "execute_result"
    }
   ],
   "source": [
    "import pandas as pd\n",
    "\n",
    "result_df = pd.DataFrame(X_test,columns=['X3 distance to the nearest MRT station','X2 house age'])\n",
    "result_df['Y_true_value'] =  Y_test\n",
    "result_df['YSVR_K_means'] = Y_svr_k_means_pred\n",
    "result_df['cluster'] = Y_clusters\n",
    "result_df.head()"
   ]
  }
 ],
 "metadata": {
  "colab": {
   "authorship_tag": "ABX9TyMs2igi0RRDb3ZTeRJ2izm7",
   "provenance": []
  },
  "kernelspec": {
   "display_name": "Python 3 (ipykernel)",
   "language": "python",
   "name": "python3"
  },
  "language_info": {
   "codemirror_mode": {
    "name": "ipython",
    "version": 3
   },
   "file_extension": ".py",
   "mimetype": "text/x-python",
   "name": "python",
   "nbconvert_exporter": "python",
   "pygments_lexer": "ipython3",
   "version": "3.9.7"
  }
 },
 "nbformat": 4,
 "nbformat_minor": 1
}
